{
  "cells": [
    {
      "cell_type": "markdown",
      "metadata": {
        "id": "view-in-github",
        "colab_type": "text"
      },
      "source": [
        "<a href=\"https://colab.research.google.com/github/bonnieliu2002/CSM146/blob/main/ps4.ipynb\" target=\"_parent\"><img src=\"https://colab.research.google.com/assets/colab-badge.svg\" alt=\"Open In Colab\"/></a>"
      ]
    },
    {
      "cell_type": "markdown",
      "metadata": {
        "id": "UzLsuz2ItShk"
      },
      "source": [
        "# PCA and k-means"
      ]
    },
    {
      "cell_type": "markdown",
      "metadata": {
        "id": "tP5f34ertq6X"
      },
      "source": [
        "## Setting up"
      ]
    },
    {
      "cell_type": "code",
      "execution_count": null,
      "metadata": {
        "id": "iy_MZ32vsU2M"
      },
      "outputs": [],
      "source": [
        "\"\"\"\n",
        "Author      : Yi-Chieh Wu, Sriram Sankararaman\n",
        "\"\"\"\n",
        "\n",
        "# numpy and scipy libraries\n",
        "import numpy as np\n",
        "from scipy import stats\n",
        "\n",
        "# matplotlib libraries\n",
        "import matplotlib.pyplot as plt\n",
        "import collections"
      ]
    },
    {
      "cell_type": "code",
      "execution_count": null,
      "metadata": {
        "colab": {
          "base_uri": "https://localhost:8080/"
        },
        "id": "O6-LGS1QsjOa",
        "outputId": "b4febca7-f131-48bd-8664-5168052a0a0e"
      },
      "outputs": [
        {
          "output_type": "stream",
          "name": "stdout",
          "text": [
            "Mounted at /content/gdrive\n"
          ]
        }
      ],
      "source": [
        "# To add your own Drive Run this cell.\n",
        "from google.colab import drive\n",
        "drive.mount('/content/gdrive')"
      ]
    },
    {
      "cell_type": "code",
      "execution_count": null,
      "metadata": {
        "id": "6BDmU0uGsonH"
      },
      "outputs": [],
      "source": [
        "import sys\n",
        "# Change the path below to the path where your folder locates\n",
        "# where you have util.py\n",
        "### ========== TODO : START ========== ###\n",
        "sys.path.append('/content/gdrive/My Drive/CS M146')\n",
        "### ========== TODO : START ========== ###\n"
      ]
    },
    {
      "cell_type": "code",
      "execution_count": null,
      "metadata": {
        "id": "luZqwvmWtIJ6"
      },
      "outputs": [],
      "source": [
        "import util\n",
        "from util import *"
      ]
    },
    {
      "cell_type": "markdown",
      "metadata": {
        "id": "RvMIPgVqtsxo"
      },
      "source": [
        "## Point, Cluster and Set of Clusters classes"
      ]
    },
    {
      "cell_type": "code",
      "execution_count": null,
      "metadata": {
        "id": "btZhFTWVuTGS"
      },
      "outputs": [],
      "source": [
        "######################################################################\n",
        "# classes\n",
        "######################################################################\n",
        "\n",
        "class Point(object) :\n",
        "    \n",
        "    def __init__(self, name, label, attrs) :\n",
        "        \"\"\"\n",
        "        A data point.\n",
        "        \n",
        "        Attributes\n",
        "        --------------------\n",
        "            name  -- string, name\n",
        "            label -- string, label\n",
        "            attrs -- string, features\n",
        "        \"\"\"\n",
        "        \n",
        "        self.name = name\n",
        "        self.label = label\n",
        "        self.attrs = attrs\n",
        "    \n",
        "    \n",
        "    #============================================================\n",
        "    # utilities\n",
        "    #============================================================\n",
        "    \n",
        "    def distance(self, other) :\n",
        "        \"\"\"\n",
        "        Return Euclidean distance of this point with other point.\n",
        "        \n",
        "        Parameters\n",
        "        --------------------\n",
        "            other -- Point, point to which we are measuring distance\n",
        "        \n",
        "        Returns\n",
        "        --------------------\n",
        "            dist  -- float, Euclidean distance\n",
        "        \"\"\"\n",
        "        # Euclidean distance metric\n",
        "        return np.linalg.norm(self.attrs-other.attrs)\n",
        "    \n",
        "    \n",
        "    def __str__(self) :\n",
        "        \"\"\"\n",
        "        Return string representation.\n",
        "        \"\"\"\n",
        "        return \"%s : (%s, %s)\" % (self.name, str(self.attrs), self.label)"
      ]
    },
    {
      "cell_type": "code",
      "execution_count": null,
      "metadata": {
        "id": "bjPM9DgluSjR"
      },
      "outputs": [],
      "source": [
        "class Cluster(object) :\n",
        "    \n",
        "    def __init__(self, points) :\n",
        "        \"\"\"\n",
        "        A cluster (set of points).\n",
        "        \n",
        "        Attributes\n",
        "        --------------------\n",
        "            points -- list of Points, cluster elements\n",
        "        \"\"\"        \n",
        "        self.points = points\n",
        "    \n",
        "    \n",
        "    def __str__(self) :\n",
        "        \"\"\"\n",
        "        Return string representation.\n",
        "        \"\"\"\n",
        "        s = \"\"\n",
        "        for point in self.points :\n",
        "            s += str(point)\n",
        "        return s\n",
        "        \n",
        "    #============================================================\n",
        "    # utilities\n",
        "    #============================================================\n",
        "    \n",
        "    def purity(self) :\n",
        "        \"\"\"\n",
        "        Compute cluster purity.\n",
        "        \n",
        "        Returns\n",
        "        --------------------\n",
        "            n           -- int, number of points in this cluster\n",
        "            num_correct -- int, number of points in this cluster\n",
        "                                with label equal to most common label in cluster\n",
        "        \"\"\"        \n",
        "        labels = []\n",
        "        for p in self.points :\n",
        "            labels.append(p.label)\n",
        "        \n",
        "        cluster_label, count = stats.mode(labels)\n",
        "        return len(labels), np.float64(count)\n",
        "    \n",
        "    \n",
        "    def centroid(self) :\n",
        "        \"\"\"\n",
        "        Compute centroid of this cluster.\n",
        "        \n",
        "        Returns\n",
        "        --------------------\n",
        "            centroid -- Point, centroid of cluster\n",
        "        \"\"\"\n",
        "        \n",
        "        ### ========== TODO : START ========== ###\n",
        "        # part 2b: implement\n",
        "        # set the centroid label to any value (e.g. the most common label in this cluster)\n",
        "        attrs = 0\n",
        "        label_to_freq = {}\n",
        "        for point in self.points:\n",
        "          attrs += point.attrs\n",
        "          if point.label in label_to_freq:\n",
        "            label_to_freq[point.label] += 1\n",
        "          else:\n",
        "            label_to_freq[point.label] = 0\n",
        "        attrs /= len(self.points)\n",
        "        label_based_on_asc_freq = sorted(label_to_freq, key=label_to_freq.get)\n",
        "        centroid = Point('centroid', label_based_on_asc_freq[-1], attrs)\n",
        "        return centroid\n",
        "        ### ========== TODO : END ========== ###\n",
        "    \n",
        "    \n",
        "    def medoid(self) :\n",
        "        \"\"\"\n",
        "        Compute medoid of this cluster, that is, the point in this cluster\n",
        "        that is closest to all other points in this cluster.\n",
        "        \n",
        "        Returns\n",
        "        --------------------\n",
        "            medoid -- Point, medoid of this cluster\n",
        "        \"\"\"\n",
        "        \n",
        "        ### ========== TODO : START ========== ###\n",
        "        # part 2b: implement\n",
        "        medoid = None\n",
        "        minDist = sys.float_info.max\n",
        "        for i in self.points:\n",
        "          dist = 0\n",
        "          for j in self.points:\n",
        "            dist += i.distance(j)\n",
        "          if dist < minDist:\n",
        "            minDist = dist\n",
        "            medoid = i\n",
        "        return medoid\n",
        "        ### ========== TODO : END ========== ###\n",
        "    \n",
        "    \n",
        "    def equivalent(self, other) :\n",
        "        \"\"\"\n",
        "        Determine whether this cluster is equivalent to other cluster.\n",
        "        Two clusters are equivalent if they contain the same set of points\n",
        "        (not the same actual Point objects but the same geometric locations).\n",
        "        \n",
        "        Parameters\n",
        "        --------------------\n",
        "            other -- Cluster, cluster to which we are comparing this cluster\n",
        "        \n",
        "        Returns\n",
        "        --------------------\n",
        "            flag  -- bool, True if both clusters are equivalent or False otherwise\n",
        "        \"\"\"\n",
        "        \n",
        "        if len(self.points) != len(other.points) :\n",
        "            return False\n",
        "        \n",
        "        matched = []\n",
        "        for point1 in self.points :\n",
        "            for point2 in other.points :\n",
        "                if point1.distance(point2) == 0 and point2 not in matched :\n",
        "                    matched.append(point2)\n",
        "        return len(matched) == len(self.points)"
      ]
    },
    {
      "cell_type": "code",
      "execution_count": null,
      "metadata": {
        "id": "o9csMcP_uSAA"
      },
      "outputs": [],
      "source": [
        "class ClusterSet(object):\n",
        "\n",
        "    def __init__(self) :\n",
        "        \"\"\"\n",
        "        A cluster set (set of clusters).\n",
        "        \n",
        "        Parameters\n",
        "        --------------------\n",
        "            members -- list of Clusters, clusters that make up this set\n",
        "        \"\"\"\n",
        "        self.members = []\n",
        "    \n",
        "    \n",
        "    #============================================================\n",
        "    # utilities\n",
        "    #============================================================    \n",
        "    \n",
        "    def centroids(self) :\n",
        "        \"\"\"\n",
        "        Return centroids of each cluster in this cluster set.\n",
        "        \n",
        "        Returns\n",
        "        --------------------\n",
        "            centroids -- list of Points, centroids of each cluster in this cluster set\n",
        "        \"\"\"\n",
        "        \n",
        "        ### ========== TODO : START ========== ###\n",
        "        # part 2b: implement\n",
        "        centroids = [cluster.centroid() for cluster in self.members]\n",
        "        return centroids\n",
        "        ### ========== TODO : END ========== ###\n",
        "    \n",
        "    \n",
        "    def medoids(self) :\n",
        "        \"\"\"\n",
        "        Return medoids of each cluster in this cluster set.\n",
        "        \n",
        "        Returns\n",
        "        --------------------\n",
        "            medoids -- list of Points, medoids of each cluster in this cluster set\n",
        "        \"\"\"\n",
        "        \n",
        "        ### ========== TODO : START ========== ###\n",
        "        # part 2b: implement\n",
        "        medoids = [cluster.medoid() for cluster in self.members]\n",
        "        return medoids\n",
        "        ### ========== TODO : END ========== ###\n",
        "    \n",
        "    \n",
        "    def score(self) :\n",
        "        \"\"\"\n",
        "        Compute average purity across clusters in this cluster set.\n",
        "        \n",
        "        Returns\n",
        "        --------------------\n",
        "            score -- float, average purity\n",
        "        \"\"\"\n",
        "        \n",
        "        total_correct = 0\n",
        "        total = 0\n",
        "        for c in self.members :\n",
        "            n, n_correct = c.purity()\n",
        "            total += n\n",
        "            total_correct += n_correct\n",
        "        return total_correct / float(total)\n",
        "    \n",
        "    \n",
        "    def equivalent(self, other) :\n",
        "        \"\"\" \n",
        "        Determine whether this cluster set is equivalent to other cluster set.\n",
        "        Two cluster sets are equivalent if they contain the same set of clusters\n",
        "        (as computed by Cluster.equivalent(...)).\n",
        "        \n",
        "        Parameters\n",
        "        --------------------\n",
        "            other -- ClusterSet, cluster set to which we are comparing this cluster set\n",
        "        \n",
        "        Returns\n",
        "        --------------------\n",
        "            flag  -- bool, True if both cluster sets are equivalent or False otherwise\n",
        "        \"\"\"\n",
        "        \n",
        "        if len(self.members) != len(other.members):\n",
        "            return False\n",
        "        \n",
        "        matched = []\n",
        "        for cluster1 in self.members :\n",
        "            for cluster2 in other.members :\n",
        "                if cluster1.equivalent(cluster2) and cluster2 not in matched:\n",
        "                    matched.append(cluster2)\n",
        "        return len(matched) == len(self.members)\n",
        "    \n",
        "    \n",
        "    #============================================================\n",
        "    # manipulation\n",
        "    #============================================================\n",
        "\n",
        "    def add(self, cluster):\n",
        "        \"\"\"\n",
        "        Add cluster to this cluster set (only if it does not already exist).\n",
        "        \n",
        "        If the cluster is already in this cluster set, raise a ValueError.\n",
        "        \n",
        "        Parameters\n",
        "        --------------------\n",
        "            cluster -- Cluster, cluster to add\n",
        "        \"\"\"\n",
        "        \n",
        "        if cluster in self.members :\n",
        "            raise ValueError\n",
        "        \n",
        "        self.members.append(cluster)"
      ]
    },
    {
      "cell_type": "markdown",
      "metadata": {
        "id": "14lVa29Dt0jR"
      },
      "source": [
        "## k-means and k-medoids algorithms"
      ]
    },
    {
      "cell_type": "code",
      "execution_count": null,
      "metadata": {
        "id": "CluApnOQupZB"
      },
      "outputs": [],
      "source": [
        "######################################################################\n",
        "# k-means and k-medoids\n",
        "######################################################################\n",
        "\n",
        "def random_init(points, k) :\n",
        "    \"\"\"\n",
        "    Randomly select k unique elements from points to be initial cluster centers.\n",
        "    \n",
        "    Parameters\n",
        "    --------------------\n",
        "        points         -- list of Points, dataset\n",
        "        k              -- int, number of clusters\n",
        "    \n",
        "    Returns\n",
        "    --------------------\n",
        "        initial_points -- list of k Points, initial cluster centers\n",
        "    \"\"\"\n",
        "    ### ========== TODO : START ========== ###\n",
        "    # part 2c: implement (hint: use np.random.choice)\n",
        "    initial_points = np.random.choice(points, size=k, replace=False)\n",
        "    return initial_points\n",
        "    ### ========== TODO : END ========== ###\n",
        "\n",
        "\n",
        "def cheat_init(points) :\n",
        "    \"\"\"\n",
        "    Initialize clusters by cheating!\n",
        "    \n",
        "    Details\n",
        "    - Let k be number of unique labels in dataset.\n",
        "    - Group points into k clusters based on label (i.e. class) information.\n",
        "    - Return medoid of each cluster as initial centers.\n",
        "    \n",
        "    Parameters\n",
        "    --------------------\n",
        "        points         -- list of Points, dataset\n",
        "    \n",
        "    Returns\n",
        "    --------------------\n",
        "        initial_points -- list of k Points, initial cluster centers\n",
        "    \"\"\"\n",
        "    ### ========== TODO : START ========== ###\n",
        "    # part 2f: implement\n",
        "    initial_points = []\n",
        "    return initial_points\n",
        "    ### ========== TODO : END ========== ###\n",
        "\n",
        "\n",
        "def kMeans(points, k, init='random', plot=False) :\n",
        "    \"\"\"\n",
        "    Cluster points into k clusters using variations of k-means algorithm.\n",
        "    \n",
        "    Parameters\n",
        "    --------------------\n",
        "        points  -- list of Points, dataset\n",
        "        k       -- int, number of clusters\n",
        "        average -- method of ClusterSet\n",
        "                   determines how to calculate average of points in cluster\n",
        "                   allowable: ClusterSet.centroids, ClusterSet.medoids\n",
        "        init    -- string, method of initialization\n",
        "                   allowable: \n",
        "                       'cheat'  -- use cheat_init to initialize clusters\n",
        "                       'random' -- use random_init to initialize clusters\n",
        "        plot    -- bool, True to plot clusters with corresponding averages\n",
        "                         for each iteration of algorithm\n",
        "    \n",
        "    Returns\n",
        "    --------------------\n",
        "        k_clusters -- ClusterSet, k clusters\n",
        "    \"\"\"\n",
        "    \n",
        "    ### ========== TODO : START ========== ###\n",
        "    # part 2c: implement\n",
        "    # Hints:\n",
        "    #   (1) On each iteration, keep track of the new cluster assignments\n",
        "    #       in a separate data structure. Then use these assignments to create\n",
        "    #       a new ClusterSet object and update the centroids.\n",
        "    #   (2) Repeat until the clustering no longer changes.\n",
        "    #   (3) To plot, use plot_clusters(...).\n",
        "\n",
        "    \n",
        "    prev_k_clusters = None\n",
        "    centers = random_init(points, k) if init == 'random' else cheat_init(points)\n",
        "    k_clusters = None\n",
        "    iter = 1\n",
        "    while prev_k_clusters is None or not k_clusters.equivalent(prev_k_clusters):\n",
        "      print(\"iter = \" + str(iter))\n",
        "      prev_k_clusters = k_clusters\n",
        "      # assign each point to a cluster\n",
        "      k_clusters = assign(points, centers)\n",
        "      # plot clusters for current iteration\n",
        "      if plot:\n",
        "        plot_clusters(k_clusters, 'Iteration ' + str(iter), ClusterSet.centroids)\n",
        "      # update prototype of clusters\n",
        "      centers = k_clusters.centroids()\n",
        "      iter += 1\n",
        "    return k_clusters\n",
        "    ### ========== TODO : END ========== ###\n",
        "\n",
        "\n",
        "def kMedoids(points, k, init='random', plot=False) :\n",
        "    \"\"\"\n",
        "    Cluster points in k clusters using k-medoids clustering.\n",
        "    See kMeans(...).\n",
        "    \"\"\"\n",
        "    ### ========== TODO : START ========== ###\n",
        "    # part 2e: implement\n",
        "    prev_k_clusters = None\n",
        "    centers = random_init(points, k) if init == 'random' else cheat_init(points)\n",
        "    k_clusters = None\n",
        "    iter = 1\n",
        "    while prev_k_clusters is None or not k_clusters.equivalent(prev_k_clusters):\n",
        "      print(\"iter = \" + str(iter))\n",
        "      prev_k_clusters = k_clusters\n",
        "      # assign each point to a cluster\n",
        "      k_clusters = assign(points, centers)\n",
        "      # plot clusters for current iteration\n",
        "      if plot:\n",
        "        plot_clusters(k_clusters, 'Iteration ' + str(iter), ClusterSet.medoids)\n",
        "      # update prototype of clusters\n",
        "      centers = k_clusters.medoids()\n",
        "      iter += 1\n",
        "    return k_clusters\n",
        "\n",
        "\n",
        "\n",
        "\n",
        "\n",
        "\n",
        "    k_clusters = ClusterSet()\n",
        "    return k_clusters\n",
        "    ### ========== TODO : END ========== ###\n",
        "\n",
        "def assign(points, centers) :\n",
        "    \"\"\"\n",
        "    Assigns each point to a cluster center.\n",
        "    \n",
        "    Parameters\n",
        "    --------------------\n",
        "        points   -- list of Points, dataset\n",
        "        centers  -- list of k cemters\n",
        "    \n",
        "    Returns\n",
        "    --------------------\n",
        "        k_clusters  -- ClusterSet, k clusters\n",
        "    \"\"\"\n",
        "    # maps center index to list of points\n",
        "    idx_to_pts = {idx : [] for idx in range(len(centers))}\n",
        "    # find closest center for each point\n",
        "    for point in points:\n",
        "        closestCenterIdx = -1\n",
        "        minDist = sys.float_info.max\n",
        "        for i in range(len(centers)):\n",
        "          if point.distance(centers[i]) <= minDist:\n",
        "            minDist = point.distance(centers[i])\n",
        "            closestCenterIdx = i\n",
        "        idx_to_pts[closestCenterIdx].append(point)\n",
        "    k_clusters = ClusterSet()\n",
        "    for idx in idx_to_pts:\n",
        "      cluster = Cluster(idx_to_pts[idx])\n",
        "      k_clusters.add(cluster)\n",
        "    return k_clusters"
      ]
    },
    {
      "cell_type": "markdown",
      "metadata": {
        "id": "7MLQjFewt7lY"
      },
      "source": [
        "## Utilities"
      ]
    },
    {
      "cell_type": "code",
      "execution_count": null,
      "metadata": {
        "id": "SWdU8Q6L0oVk"
      },
      "outputs": [],
      "source": [
        "######################################################################\n",
        "# helper functions\n",
        "######################################################################\n",
        "\n",
        "def build_face_image_points(X, y) :\n",
        "    \"\"\"\n",
        "    Translate images to (labeled) points.\n",
        "    \n",
        "    Parameters\n",
        "    --------------------\n",
        "        X     -- numpy array of shape (n,d), features (each row is one image)\n",
        "        y     -- numpy array of shape (n,), targets\n",
        "    \n",
        "    Returns\n",
        "    --------------------\n",
        "        point -- list of Points, dataset (one point for each image)\n",
        "    \"\"\"\n",
        "    \n",
        "    n,d = X.shape\n",
        "    \n",
        "    images = collections.defaultdict(list) # key = class, val = list of images with this class\n",
        "    for i in range(n) :\n",
        "        images[y[i]].append(X[i,:])\n",
        "    \n",
        "    points = []\n",
        "    for face in images :\n",
        "        count = 0\n",
        "        for im in images[face] :\n",
        "            points.append(Point(str(face) + '_' + str(count), face, im))\n",
        "            count += 1\n",
        "\n",
        "    return points\n",
        "\n",
        "\n",
        "def plot_clusters(clusters, title, average) :\n",
        "    \"\"\"\n",
        "    Plot clusters along with average points of each cluster.\n",
        "\n",
        "    Parameters\n",
        "    --------------------\n",
        "        clusters -- ClusterSet, clusters to plot\n",
        "        title    -- string, plot title\n",
        "        average  -- method of ClusterSet\n",
        "                    determines how to calculate average of points in cluster\n",
        "                    allowable: ClusterSet.centroids, ClusterSet.medoids\n",
        "    \"\"\"\n",
        "    \n",
        "    plt.figure()\n",
        "    np.random.seed(20)\n",
        "    label = 0\n",
        "    colors = {}\n",
        "    centroids = average(clusters)\n",
        "    for c in centroids :\n",
        "        coord = c.attrs\n",
        "        plt.plot(coord[0],coord[1], 'ok', markersize=12)\n",
        "    for cluster in clusters.members :\n",
        "        label += 1\n",
        "        colors[label] = np.random.rand(3,)\n",
        "        for point in cluster.points :\n",
        "            coord = point.attrs\n",
        "            plt.plot(coord[0], coord[1], 'o', color=colors[label])\n",
        "    plt.title(title)\n",
        "    plt.show()\n",
        "\n",
        "\n",
        "def generate_points_2d(N, seed=1234) :\n",
        "    \"\"\"\n",
        "    Generate toy dataset of 3 clusters each with N points.\n",
        "    \n",
        "    Parameters\n",
        "    --------------------\n",
        "        N      -- int, number of points to generate per cluster\n",
        "        seed   -- random seed\n",
        "    \n",
        "    Returns\n",
        "    --------------------\n",
        "        points -- list of Points, dataset\n",
        "    \"\"\"\n",
        "    np.random.seed(seed)\n",
        "    \n",
        "    mu = [[0,0.5], [1,1], [2,0.5]]\n",
        "    sigma = [[0.1,0.1], [0.25,0.25], [0.15,0.15]]\n",
        "    \n",
        "    label = 0\n",
        "    points = []\n",
        "    for m,s in zip(mu, sigma) :\n",
        "        label += 1\n",
        "        for i in range(N) :\n",
        "            x = random_sample_2d(m, s)\n",
        "            points.append(Point(str(label)+'_'+str(i), label, x))\n",
        "    \n",
        "    return points"
      ]
    },
    {
      "cell_type": "markdown",
      "metadata": {
        "id": "gOeLumzduAoe"
      },
      "source": [
        "## Main function"
      ]
    },
    {
      "cell_type": "code",
      "execution_count": null,
      "metadata": {
        "id": "NaTfdfUetLuS",
        "colab": {
          "base_uri": "https://localhost:8080/",
          "height": 1000
        },
        "outputId": "2a7450e9-2020-4aeb-a7c8-34488938b246"
      },
      "outputs": [
        {
          "output_type": "stream",
          "name": "stdout",
          "text": [
            "Total dataset size:\n",
            "\tnum_samples: 1867\n",
            "\tnum_features: 1850\n",
            "\tnum_classes: 19\n",
            "iter = 1\n"
          ]
        },
        {
          "output_type": "display_data",
          "data": {
            "text/plain": [
              "<Figure size 432x288 with 1 Axes>"
            ],
            "image/png": "[encoded data removed]"
          },
          "metadata": {
            "needs_background": "light"
          }
        },
        {
          "output_type": "stream",
          "name": "stdout",
          "text": [
            "iter = 2\n"
          ]
        },
        {
          "output_type": "display_data",
          "data": {
            "text/plain": [
              "<Figure size 432x288 with 1 Axes>"
            ],
            "image/png": "[encoded data removed]"
          },
          "metadata": {
            "needs_background": "light"
          }
        },
        {
          "output_type": "stream",
          "name": "stdout",
          "text": [
            "iter = 3\n"
          ]
        },
        {
          "output_type": "display_data",
          "data": {
            "text/plain": [
              "<Figure size 432x288 with 1 Axes>"
            ],
            "image/png": "[encoded data removed]"
          },
          "metadata": {
            "needs_background": "light"
          }
        },
        {
          "output_type": "stream",
          "name": "stdout",
          "text": [
            "iter = 4\n"
          ]
        },
        {
          "output_type": "display_data",
          "data": {
            "text/plain": [
              "<Figure size 432x288 with 1 Axes>"
            ],
            "image/png": "[encoded data removed]"
          },
          "metadata": {
            "needs_background": "light"
          }
        },
        {
          "output_type": "stream",
          "name": "stdout",
          "text": [
            "iter = 1\n"
          ]
        },
        {
          "output_type": "display_data",
          "data": {
            "text/plain": [
              "<Figure size 432x288 with 1 Axes>"
            ],
            "image/png": "[encoded data removed]"
          },
          "metadata": {
            "needs_background": "light"
          }
        },
        {
          "output_type": "stream",
          "name": "stdout",
          "text": [
            "iter = 2\n"
          ]
        },
        {
          "output_type": "display_data",
          "data": {
            "text/plain": [
              "<Figure size 432x288 with 1 Axes>"
            ],
            "image/png": "[encoded data removed]"
          },
          "metadata": {
            "needs_background": "light"
          }
        },
        {
          "output_type": "stream",
          "name": "stdout",
          "text": [
            "iter = 3\n"
          ]
        },
        {
          "output_type": "display_data",
          "data": {
            "text/plain": [
              "<Figure size 432x288 with 1 Axes>"
            ],
            "image/png": "[encoded data removed]"
          },
          "metadata": {
            "needs_background": "light"
          }
        },
        {
          "output_type": "stream",
          "name": "stdout",
          "text": [
            "iter = 4\n"
          ]
        },
        {
          "output_type": "display_data",
          "data": {
            "text/plain": [
              "<Figure size 432x288 with 1 Axes>"
            ],
            "image/png": "[encoded data removed]"
          },
          "metadata": {
            "needs_background": "light"
          }
        }
      ],
      "source": [
        "######################################################################\n",
        "# main\n",
        "######################################################################\n",
        "\n",
        "def main() :\n",
        "    ### ========== TODO : START ========== ###\n",
        "    # part 1: explore LFW data set\n",
        "    X, y = util.get_lfw_data()\n",
        "\n",
        "    # part 1a: plot some input images, compute mean, and plot average face\n",
        "    # util.show_image(X[0:])\n",
        "    # util.show_image(X[1:])\n",
        "    # util.show_image(X[2:])\n",
        "\n",
        "    avg_face = X.mean(axis=0)\n",
        "    # util.show_image(avg_face)\n",
        "\n",
        "    # part 1b: perform PCA\n",
        "    U, mu = util.PCA(X)\n",
        "    # util.plot_gallery([util.vec_to_image(U[:,i]) for i in range(12)])\n",
        "\n",
        "    # part 1c: effect of using more or fewer dimensions to represent images\n",
        "    num_components = [1, 10, 50, 100, 500, 1288]\n",
        "    for l in num_components:\n",
        "      Z, Ul = util.apply_PCA_from_Eig(X, U, l, mu)\n",
        "      X_rec = util.reconstruct_from_PCA(Z, Ul, mu)\n",
        "      # print(\"gallery for l = \" + str(l))\n",
        "      # util.plot_gallery(X_rec)\n",
        "    ### ========== TODO : END ========== ###\n",
        "    \n",
        "    \n",
        "    \n",
        "    ### ========== TODO : START ========== ###\n",
        "    # part 2d-2f: cluster toy dataset\n",
        "    np.random.seed(1234)\n",
        "    points = generate_points_2d(20)\n",
        "    k_clusters = kMeans(points, 3, plot=True)\n",
        "    k_clusters = kMedoids(points, 3, plot=True)\n",
        "    ### ========== TODO : END ========== ###\n",
        "    \n",
        "    \n",
        "    \n",
        "    ### ========== TODO : START ========== ###    \n",
        "    # part 3a: cluster faces\n",
        "    np.random.seed(1234)\n",
        "    \n",
        "\n",
        "    # part 3b: explore effect of lower-dimensional representations on clustering performance\n",
        "    np.random.seed(1234)\n",
        "    \n",
        "\n",
        "    # part 3c: determine ``most discriminative'' and ``least discriminative'' pairs of images\n",
        "    np.random.seed(1234)\n",
        "    \n",
        "\n",
        "    ### ========== TODO : END ========== ###\n",
        "\n",
        "\n",
        "if __name__ == \"__main__\" :\n",
        "    main()"
      ]
    },
    {
      "cell_type": "code",
      "execution_count": null,
      "metadata": {
        "id": "w3xbJg5Gw9zK"
      },
      "outputs": [],
      "source": [
        ""
      ]
    }
  ],
  "metadata": {
    "colab": {
      "collapsed_sections": [],
      "name": "ps4.ipynb",
      "provenance": [],
      "include_colab_link": true
    },
    "kernelspec": {
      "display_name": "Python 3",
      "name": "python3"
    }
  },
  "nbformat": 4,
  "nbformat_minor": 0
}